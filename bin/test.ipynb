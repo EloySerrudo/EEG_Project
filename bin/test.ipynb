{
 "cells": [
  {
   "cell_type": "code",
   "execution_count": 1,
   "id": "ce1a7d3b-e258-449d-834a-a7d149b5a0af",
   "metadata": {},
   "outputs": [],
   "source": [
    "import hackeeg\n",
    "from hackeeg import ads1299\n",
    "from hackeeg.driver import SPEEDS, GAINS, Status"
   ]
  },
  {
   "cell_type": "code",
   "execution_count": 2,
   "id": "01c16e29-52ae-49d6-8d51-d011b11d5db0",
   "metadata": {},
   "outputs": [],
   "source": [
    "hackeeg_1 = hackeeg.HackEEGBoard('COM9', baudrate=500000, debug=True)"
   ]
  },
  {
   "cell_type": "code",
   "execution_count": 3,
   "id": "942ae4b1-76dc-49db-8939-52cf43a10bf2",
   "metadata": {},
   "outputs": [
    {
     "name": "stdout",
     "output_type": "stream",
     "text": [
      "Paso 1\n",
      "command: jsonlines\n",
      "Paso 2\n",
      "read_response line: \n",
      "\n",
      "json response:\n",
      "null\n",
      "command: sdatac  parameters: []\n",
      "json command:\n",
      "{\n",
      "    \"COMMAND\": \"sdatac\",\n",
      "    \"PARAMETERS\": []\n",
      "}\n",
      "read_response line: \n",
      "\n",
      "json response:\n",
      "null\n"
     ]
    }
   ],
   "source": [
    "hackeeg_1.connect()"
   ]
  },
  {
   "cell_type": "code",
   "execution_count": 4,
   "id": "2a04f314-44d0-4bc2-a4f4-d17bc28ce993",
   "metadata": {},
   "outputs": [],
   "source": [
    "hackeeg_1.close()"
   ]
  },
  {
   "cell_type": "code",
   "execution_count": null,
   "id": "2053416b-3220-42d9-81f9-e81e2d16f6cf",
   "metadata": {},
   "outputs": [],
   "source": []
  }
 ],
 "metadata": {
  "kernelspec": {
   "display_name": "Python 3 (ipykernel)",
   "language": "python",
   "name": "python3"
  },
  "language_info": {
   "codemirror_mode": {
    "name": "ipython",
    "version": 3
   },
   "file_extension": ".py",
   "mimetype": "text/x-python",
   "name": "python",
   "nbconvert_exporter": "python",
   "pygments_lexer": "ipython3",
   "version": "3.9.19"
  }
 },
 "nbformat": 4,
 "nbformat_minor": 5
}
